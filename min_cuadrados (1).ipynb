{
  "nbformat": 4,
  "nbformat_minor": 0,
  "metadata": {
    "colab": {
      "provenance": []
    },
    "kernelspec": {
      "name": "python3",
      "display_name": "Python 3"
    },
    "language_info": {
      "name": "python"
    },
    "widgets": {
      "application/vnd.jupyter.widget-state+json": {
        "fbfef02a2cc74ec3a69ea8f489efbd9f": {
          "model_module": "@jupyter-widgets/controls",
          "model_name": "VBoxModel",
          "model_module_version": "1.5.0",
          "state": {
            "_dom_classes": [
              "widget-interact"
            ],
            "_model_module": "@jupyter-widgets/controls",
            "_model_module_version": "1.5.0",
            "_model_name": "VBoxModel",
            "_view_count": null,
            "_view_module": "@jupyter-widgets/controls",
            "_view_module_version": "1.5.0",
            "_view_name": "VBoxView",
            "box_style": "",
            "children": [
              "IPY_MODEL_2139eabdc193439dbd7fe942a3ff6598",
              "IPY_MODEL_e3bbf4f948684c1e80d4900b714f71a4",
              "IPY_MODEL_986df35d1f42469ab667278f967f5e93"
            ],
            "layout": "IPY_MODEL_a3941ec246154ca4b16c5bc098527e87"
          }
        },
        "2139eabdc193439dbd7fe942a3ff6598": {
          "model_module": "@jupyter-widgets/controls",
          "model_name": "FloatSliderModel",
          "model_module_version": "1.5.0",
          "state": {
            "_dom_classes": [],
            "_model_module": "@jupyter-widgets/controls",
            "_model_module_version": "1.5.0",
            "_model_name": "FloatSliderModel",
            "_view_count": null,
            "_view_module": "@jupyter-widgets/controls",
            "_view_module_version": "1.5.0",
            "_view_name": "FloatSliderView",
            "continuous_update": true,
            "description": "p2_x",
            "description_tooltip": null,
            "disabled": false,
            "layout": "IPY_MODEL_05920774d6bb43a486e11dc3a8d5ddcf",
            "max": 12.3,
            "min": 5.5,
            "orientation": "horizontal",
            "readout": true,
            "readout_format": ".2f",
            "step": 0.1,
            "style": "IPY_MODEL_ded7059c50834519b850a1b268da9b58",
            "value": 8.7
          }
        },
        "e3bbf4f948684c1e80d4900b714f71a4": {
          "model_module": "@jupyter-widgets/controls",
          "model_name": "FloatSliderModel",
          "model_module_version": "1.5.0",
          "state": {
            "_dom_classes": [],
            "_model_module": "@jupyter-widgets/controls",
            "_model_module_version": "1.5.0",
            "_model_name": "FloatSliderModel",
            "_view_count": null,
            "_view_module": "@jupyter-widgets/controls",
            "_view_module_version": "1.5.0",
            "_view_name": "FloatSliderView",
            "continuous_update": true,
            "description": "p2_y",
            "description_tooltip": null,
            "disabled": false,
            "layout": "IPY_MODEL_e671b64c17134b4ab601d22f88323a69",
            "max": 10,
            "min": -10,
            "orientation": "horizontal",
            "readout": true,
            "readout_format": ".2f",
            "step": 0.1,
            "style": "IPY_MODEL_fc95c677f471427f8f2c89ffa85aa153",
            "value": -0.7
          }
        },
        "986df35d1f42469ab667278f967f5e93": {
          "model_module": "@jupyter-widgets/output",
          "model_name": "OutputModel",
          "model_module_version": "1.0.0",
          "state": {
            "_dom_classes": [],
            "_model_module": "@jupyter-widgets/output",
            "_model_module_version": "1.0.0",
            "_model_name": "OutputModel",
            "_view_count": null,
            "_view_module": "@jupyter-widgets/output",
            "_view_module_version": "1.0.0",
            "_view_name": "OutputView",
            "layout": "IPY_MODEL_4e67e7bca4f542db9d23d7d5fdf64c32",
            "msg_id": "",
            "outputs": [
              {
                "output_type": "display_data",
                "data": {
                  "text/plain": "<Figure size 1000x600 with 1 Axes>",
                  "image/png": "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\n"
                },
                "metadata": {}
              }
            ]
          }
        },
        "a3941ec246154ca4b16c5bc098527e87": {
          "model_module": "@jupyter-widgets/base",
          "model_name": "LayoutModel",
          "model_module_version": "1.2.0",
          "state": {
            "_model_module": "@jupyter-widgets/base",
            "_model_module_version": "1.2.0",
            "_model_name": "LayoutModel",
            "_view_count": null,
            "_view_module": "@jupyter-widgets/base",
            "_view_module_version": "1.2.0",
            "_view_name": "LayoutView",
            "align_content": null,
            "align_items": null,
            "align_self": null,
            "border": null,
            "bottom": null,
            "display": null,
            "flex": null,
            "flex_flow": null,
            "grid_area": null,
            "grid_auto_columns": null,
            "grid_auto_flow": null,
            "grid_auto_rows": null,
            "grid_column": null,
            "grid_gap": null,
            "grid_row": null,
            "grid_template_areas": null,
            "grid_template_columns": null,
            "grid_template_rows": null,
            "height": null,
            "justify_content": null,
            "justify_items": null,
            "left": null,
            "margin": null,
            "max_height": null,
            "max_width": null,
            "min_height": null,
            "min_width": null,
            "object_fit": null,
            "object_position": null,
            "order": null,
            "overflow": null,
            "overflow_x": null,
            "overflow_y": null,
            "padding": null,
            "right": null,
            "top": null,
            "visibility": null,
            "width": null
          }
        },
        "05920774d6bb43a486e11dc3a8d5ddcf": {
          "model_module": "@jupyter-widgets/base",
          "model_name": "LayoutModel",
          "model_module_version": "1.2.0",
          "state": {
            "_model_module": "@jupyter-widgets/base",
            "_model_module_version": "1.2.0",
            "_model_name": "LayoutModel",
            "_view_count": null,
            "_view_module": "@jupyter-widgets/base",
            "_view_module_version": "1.2.0",
            "_view_name": "LayoutView",
            "align_content": null,
            "align_items": null,
            "align_self": null,
            "border": null,
            "bottom": null,
            "display": null,
            "flex": null,
            "flex_flow": null,
            "grid_area": null,
            "grid_auto_columns": null,
            "grid_auto_flow": null,
            "grid_auto_rows": null,
            "grid_column": null,
            "grid_gap": null,
            "grid_row": null,
            "grid_template_areas": null,
            "grid_template_columns": null,
            "grid_template_rows": null,
            "height": null,
            "justify_content": null,
            "justify_items": null,
            "left": null,
            "margin": null,
            "max_height": null,
            "max_width": null,
            "min_height": null,
            "min_width": null,
            "object_fit": null,
            "object_position": null,
            "order": null,
            "overflow": null,
            "overflow_x": null,
            "overflow_y": null,
            "padding": null,
            "right": null,
            "top": null,
            "visibility": null,
            "width": null
          }
        },
        "ded7059c50834519b850a1b268da9b58": {
          "model_module": "@jupyter-widgets/controls",
          "model_name": "SliderStyleModel",
          "model_module_version": "1.5.0",
          "state": {
            "_model_module": "@jupyter-widgets/controls",
            "_model_module_version": "1.5.0",
            "_model_name": "SliderStyleModel",
            "_view_count": null,
            "_view_module": "@jupyter-widgets/base",
            "_view_module_version": "1.2.0",
            "_view_name": "StyleView",
            "description_width": "",
            "handle_color": null
          }
        },
        "e671b64c17134b4ab601d22f88323a69": {
          "model_module": "@jupyter-widgets/base",
          "model_name": "LayoutModel",
          "model_module_version": "1.2.0",
          "state": {
            "_model_module": "@jupyter-widgets/base",
            "_model_module_version": "1.2.0",
            "_model_name": "LayoutModel",
            "_view_count": null,
            "_view_module": "@jupyter-widgets/base",
            "_view_module_version": "1.2.0",
            "_view_name": "LayoutView",
            "align_content": null,
            "align_items": null,
            "align_self": null,
            "border": null,
            "bottom": null,
            "display": null,
            "flex": null,
            "flex_flow": null,
            "grid_area": null,
            "grid_auto_columns": null,
            "grid_auto_flow": null,
            "grid_auto_rows": null,
            "grid_column": null,
            "grid_gap": null,
            "grid_row": null,
            "grid_template_areas": null,
            "grid_template_columns": null,
            "grid_template_rows": null,
            "height": null,
            "justify_content": null,
            "justify_items": null,
            "left": null,
            "margin": null,
            "max_height": null,
            "max_width": null,
            "min_height": null,
            "min_width": null,
            "object_fit": null,
            "object_position": null,
            "order": null,
            "overflow": null,
            "overflow_x": null,
            "overflow_y": null,
            "padding": null,
            "right": null,
            "top": null,
            "visibility": null,
            "width": null
          }
        },
        "fc95c677f471427f8f2c89ffa85aa153": {
          "model_module": "@jupyter-widgets/controls",
          "model_name": "SliderStyleModel",
          "model_module_version": "1.5.0",
          "state": {
            "_model_module": "@jupyter-widgets/controls",
            "_model_module_version": "1.5.0",
            "_model_name": "SliderStyleModel",
            "_view_count": null,
            "_view_module": "@jupyter-widgets/base",
            "_view_module_version": "1.2.0",
            "_view_name": "StyleView",
            "description_width": "",
            "handle_color": null
          }
        },
        "4e67e7bca4f542db9d23d7d5fdf64c32": {
          "model_module": "@jupyter-widgets/base",
          "model_name": "LayoutModel",
          "model_module_version": "1.2.0",
          "state": {
            "_model_module": "@jupyter-widgets/base",
            "_model_module_version": "1.2.0",
            "_model_name": "LayoutModel",
            "_view_count": null,
            "_view_module": "@jupyter-widgets/base",
            "_view_module_version": "1.2.0",
            "_view_name": "LayoutView",
            "align_content": null,
            "align_items": null,
            "align_self": null,
            "border": null,
            "bottom": null,
            "display": null,
            "flex": null,
            "flex_flow": null,
            "grid_area": null,
            "grid_auto_columns": null,
            "grid_auto_flow": null,
            "grid_auto_rows": null,
            "grid_column": null,
            "grid_gap": null,
            "grid_row": null,
            "grid_template_areas": null,
            "grid_template_columns": null,
            "grid_template_rows": null,
            "height": null,
            "justify_content": null,
            "justify_items": null,
            "left": null,
            "margin": null,
            "max_height": null,
            "max_width": null,
            "min_height": null,
            "min_width": null,
            "object_fit": null,
            "object_position": null,
            "order": null,
            "overflow": null,
            "overflow_x": null,
            "overflow_y": null,
            "padding": null,
            "right": null,
            "top": null,
            "visibility": null,
            "width": null
          }
        }
      }
    }
  },
  "cells": [
    {
      "cell_type": "markdown",
      "source": [
        "# Taller 04\n",
        "## Ajuste de curvas por mínimos cuadrados\n",
        "\n",
        "## Nombre: Ian Oñate\n",
        "## Fecha: 14/12/2024"
      ],
      "metadata": {
        "id": "gbEyhd8oo2PS"
      }
    },
    {
      "cell_type": "code",
      "execution_count": 1,
      "metadata": {
        "id": "zhtsjb1CodbP"
      },
      "outputs": [],
      "source": [
        "import numpy as np\n",
        "\n",
        "p1 = (5.4, 3.2)\n",
        "p2_i = (9.5, 0.7)\n",
        "p3 = (12.3, -3.6)"
      ]
    },
    {
      "cell_type": "code",
      "source": [
        "from ipywidgets import interact\n",
        "import matplotlib.pyplot as plt\n",
        "\n",
        "m = -1\n",
        "b = 8\n",
        "\n",
        "\n",
        "def update_plot(p2_x, p2_y):\n",
        "    x_coords = [p1[0], p2_x, p3[0]]\n",
        "    y_coords = [p1[1], p2_y, p3[1]]\n",
        "\n",
        "    m,b = np.polyfit(x_coords, y_coords, 1)\n",
        "\n",
        "\n",
        "    plt.figure(figsize=(10, 6))\n",
        "    plt.scatter(x_coords, y_coords, color=\"red\")\n",
        "\n",
        "    x_line = [min(x_coords), max(x_coords)]\n",
        "    y_line = [m * x + b for x in x_line]\n",
        "    plt.plot(x_line, y_line, color=\"blue\")\n",
        "\n",
        "    plt.xlabel(\"X\")\n",
        "    plt.ylabel(\"Y\")\n",
        "    plt.title(\"Points and Line Plot\")\n",
        "    plt.show()\n",
        "\n",
        "\n",
        "_ = interact(update_plot, p2_x=(5.5, 12.3, 0.1), p2_y=(-10.0, 10.0, 0.1))"
      ],
      "metadata": {
        "colab": {
          "base_uri": "https://localhost:8080/",
          "height": 628,
          "referenced_widgets": [
            "fbfef02a2cc74ec3a69ea8f489efbd9f",
            "2139eabdc193439dbd7fe942a3ff6598",
            "e3bbf4f948684c1e80d4900b714f71a4",
            "986df35d1f42469ab667278f967f5e93",
            "a3941ec246154ca4b16c5bc098527e87",
            "05920774d6bb43a486e11dc3a8d5ddcf",
            "ded7059c50834519b850a1b268da9b58",
            "e671b64c17134b4ab601d22f88323a69",
            "fc95c677f471427f8f2c89ffa85aa153",
            "4e67e7bca4f542db9d23d7d5fdf64c32"
          ]
        },
        "id": "QTAzNyq2ojk0",
        "outputId": "b4dcc444-2faf-4c34-d707-3359bae0bdb6"
      },
      "execution_count": 2,
      "outputs": [
        {
          "output_type": "display_data",
          "data": {
            "text/plain": [
              "interactive(children=(FloatSlider(value=8.9, description='p2_x', max=12.3, min=5.5), FloatSlider(value=0.0, de…"
            ],
            "application/vnd.jupyter.widget-view+json": {
              "version_major": 2,
              "version_minor": 0,
              "model_id": "fbfef02a2cc74ec3a69ea8f489efbd9f"
            }
          },
          "metadata": {}
        }
      ]
    }
  ]
}